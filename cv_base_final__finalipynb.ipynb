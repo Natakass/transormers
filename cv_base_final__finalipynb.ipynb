{
  "metadata": {
    "kernelspec": {
      "language": "python",
      "display_name": "Python 3",
      "name": "python3"
    },
    "language_info": {
      "name": "python",
      "version": "3.11.13",
      "mimetype": "text/x-python",
      "codemirror_mode": {
        "name": "ipython",
        "version": 3
      },
      "pygments_lexer": "ipython3",
      "nbconvert_exporter": "python",
      "file_extension": ".py"
    },
    "kaggle": {
      "accelerator": "nvidiaTeslaT4",
      "dataSources": [
        {
          "sourceId": 7327,
          "databundleVersionId": 861871,
          "sourceType": "competition"
        }
      ],
      "isInternetEnabled": true,
      "language": "python",
      "sourceType": "notebook",
      "isGpuEnabled": true
    },
    "colab": {
      "provenance": []
    }
  },
  "nbformat_minor": 0,
  "nbformat": 4,
  "cells": [
    {
      "cell_type": "code",
      "source": [
        "import timm\n",
        "import torch\n",
        "import torch.nn as nn\n",
        "import torch.nn.functional as F\n",
        "from torch.utils.data import DataLoader, Subset\n",
        "from torchvision import transforms\n",
        "from torch.optim import SGD\n",
        "from torchvision.transforms import InterpolationMode\n",
        "from tqdm import tqdm\n",
        "import numpy as np\n",
        "import os\n",
        "import pandas as pd\n",
        "from PIL import Image\n",
        "from sklearn.model_selection import train_test_split\n",
        "from sklearn.utils.class_weight import compute_class_weight\n",
        "from torch.utils.data import Dataset\n",
        "from timm.data import Mixup\n",
        "from torch.optim.lr_scheduler import OneCycleLR\n",
        "from timm.data.auto_augment import rand_augment_transform\n",
        "from torch.optim.lr_scheduler import CosineAnnealingLR\n"
      ],
      "metadata": {
        "_uuid": "8f2839f25d086af736a60e9eeb907d3b93b6e0e5",
        "_cell_guid": "b1076dfc-b9ad-4769-8c92-a6c4dae69d19",
        "trusted": true,
        "execution": {
          "iopub.status.busy": "2025-07-22T18:03:53.577450Z",
          "iopub.execute_input": "2025-07-22T18:03:53.578162Z",
          "iopub.status.idle": "2025-07-22T18:04:11.125728Z",
          "shell.execute_reply.started": "2025-07-22T18:03:53.578116Z",
          "shell.execute_reply": "2025-07-22T18:04:11.125163Z"
        },
        "id": "6rVvYrto1qWV"
      },
      "outputs": [],
      "execution_count": null
    },
    {
      "cell_type": "code",
      "source": [
        "torch.manual_seed(0)\n",
        "np.random.seed(0)"
      ],
      "metadata": {
        "trusted": true,
        "execution": {
          "iopub.status.busy": "2025-07-22T18:04:13.858356Z",
          "iopub.execute_input": "2025-07-22T18:04:13.859131Z",
          "iopub.status.idle": "2025-07-22T18:04:13.872477Z",
          "shell.execute_reply.started": "2025-07-22T18:04:13.859105Z",
          "shell.execute_reply": "2025-07-22T18:04:13.871800Z"
        },
        "id": "YJJO_kMV1qWY"
      },
      "outputs": [],
      "execution_count": null
    },
    {
      "cell_type": "code",
      "source": [
        "pip install wandb\n"
      ],
      "metadata": {
        "trusted": true,
        "execution": {
          "iopub.status.busy": "2025-07-22T09:40:22.313853Z",
          "iopub.execute_input": "2025-07-22T09:40:22.314144Z",
          "iopub.status.idle": "2025-07-22T09:40:26.339305Z",
          "shell.execute_reply.started": "2025-07-22T09:40:22.314122Z",
          "shell.execute_reply": "2025-07-22T09:40:26.338361Z"
        },
        "id": "tubEDGfB1qWZ",
        "outputId": "60a87fd6-2b5e-4aa3-dbae-4c2f7b0a223c"
      },
      "outputs": [
        {
          "name": "stdout",
          "text": "Requirement already satisfied: wandb in /usr/local/lib/python3.11/dist-packages (0.20.1)\nRequirement already satisfied: click!=8.0.0,>=7.1 in /usr/local/lib/python3.11/dist-packages (from wandb) (8.2.1)\nRequirement already satisfied: gitpython!=3.1.29,>=1.0.0 in /usr/local/lib/python3.11/dist-packages (from wandb) (3.1.44)\nRequirement already satisfied: packaging in /usr/local/lib/python3.11/dist-packages (from wandb) (25.0)\nRequirement already satisfied: platformdirs in /usr/local/lib/python3.11/dist-packages (from wandb) (4.3.8)\nRequirement already satisfied: protobuf!=4.21.0,!=5.28.0,<7,>=3.19.0 in /usr/local/lib/python3.11/dist-packages (from wandb) (3.20.3)\nRequirement already satisfied: psutil>=5.0.0 in /usr/local/lib/python3.11/dist-packages (from wandb) (7.0.0)\nRequirement already satisfied: pydantic<3 in /usr/local/lib/python3.11/dist-packages (from wandb) (2.11.7)\nRequirement already satisfied: pyyaml in /usr/local/lib/python3.11/dist-packages (from wandb) (6.0.2)\nRequirement already satisfied: requests<3,>=2.0.0 in /usr/local/lib/python3.11/dist-packages (from wandb) (2.32.4)\nRequirement already satisfied: sentry-sdk>=2.0.0 in /usr/local/lib/python3.11/dist-packages (from wandb) (2.31.0)\nRequirement already satisfied: setproctitle in /usr/local/lib/python3.11/dist-packages (from wandb) (1.3.6)\nRequirement already satisfied: typing-extensions<5,>=4.8 in /usr/local/lib/python3.11/dist-packages (from wandb) (4.14.0)\nRequirement already satisfied: gitdb<5,>=4.0.1 in /usr/local/lib/python3.11/dist-packages (from gitpython!=3.1.29,>=1.0.0->wandb) (4.0.12)\nRequirement already satisfied: annotated-types>=0.6.0 in /usr/local/lib/python3.11/dist-packages (from pydantic<3->wandb) (0.7.0)\nRequirement already satisfied: pydantic-core==2.33.2 in /usr/local/lib/python3.11/dist-packages (from pydantic<3->wandb) (2.33.2)\nRequirement already satisfied: typing-inspection>=0.4.0 in /usr/local/lib/python3.11/dist-packages (from pydantic<3->wandb) (0.4.1)\nRequirement already satisfied: charset_normalizer<4,>=2 in /usr/local/lib/python3.11/dist-packages (from requests<3,>=2.0.0->wandb) (3.4.2)\nRequirement already satisfied: idna<4,>=2.5 in /usr/local/lib/python3.11/dist-packages (from requests<3,>=2.0.0->wandb) (3.10)\nRequirement already satisfied: urllib3<3,>=1.21.1 in /usr/local/lib/python3.11/dist-packages (from requests<3,>=2.0.0->wandb) (2.5.0)\nRequirement already satisfied: certifi>=2017.4.17 in /usr/local/lib/python3.11/dist-packages (from requests<3,>=2.0.0->wandb) (2025.6.15)\nRequirement already satisfied: smmap<6,>=3.0.1 in /usr/local/lib/python3.11/dist-packages (from gitdb<5,>=4.0.1->gitpython!=3.1.29,>=1.0.0->wandb) (5.0.2)\nNote: you may need to restart the kernel to use updated packages.\n",
          "output_type": "stream"
        }
      ],
      "execution_count": null
    },
    {
      "cell_type": "code",
      "source": [
        "# wandb login\n"
      ],
      "metadata": {
        "trusted": true,
        "execution": {
          "iopub.status.busy": "2025-07-22T09:43:15.105817Z",
          "iopub.execute_input": "2025-07-22T09:43:15.106094Z",
          "iopub.status.idle": "2025-07-22T09:43:15.109829Z",
          "shell.execute_reply.started": "2025-07-22T09:43:15.106073Z",
          "shell.execute_reply": "2025-07-22T09:43:15.109314Z"
        },
        "id": "jj0JNDRT1qWb"
      },
      "outputs": [],
      "execution_count": null
    },
    {
      "cell_type": "code",
      "source": [
        "class CustomImageDataset(Dataset):\n",
        "    def __init__(self, csv_file, image_dir, transform=None):\n",
        "        self.labels_df = pd.read_csv(csv_file)\n",
        "        self.image_dir = image_dir\n",
        "        self.transform = transform\n",
        "        self.classes = sorted(self.labels_df.iloc[:, 1].unique())\n",
        "        self.class_to_idx = {cls_name: idx for idx, cls_name in enumerate(self.classes)}\n",
        "\n",
        "    def __len__(self):\n",
        "        return len(self.labels_df)\n",
        "\n",
        "    def __getitem__(self, idx):\n",
        "        img_id = self.labels_df.iloc[idx, 0] + \".jpg\"\n",
        "        label_str = self.labels_df.iloc[idx, 1]\n",
        "        img_path = os.path.join(self.image_dir, img_id)\n",
        "        image = Image.open(img_path).convert(\"RGB\")\n",
        "        if self.transform:\n",
        "            image = self.transform(image)\n",
        "        label = self.class_to_idx[label_str]\n",
        "        return image, label\n",
        "\n",
        "\n",
        "# transform_train = transforms.Compose([\n",
        "#     transforms.Resize((224, 224), interpolation=InterpolationMode.LANCZOS),\n",
        "#     transforms.RandomHorizontalFlip(),\n",
        "#     transforms.RandomRotation(15),\n",
        "#     transforms.RandAugment(),\n",
        "#     transforms.ToTensor(),\n",
        "#     transforms.Normalize([0.485, 0.456, 0.406], [0.229, 0.224, 0.225]),\n",
        "# ])\n",
        "\n",
        "transform_train = transforms.Compose([\n",
        "    transforms.Resize((256, 256), interpolation=InterpolationMode.LANCZOS),\n",
        "    # transforms.RandomResizedCrop(256, scale=(0.7, 1.0), ratio=(0.8, 1.2)),\n",
        "    transforms.RandomHorizontalFlip(),\n",
        "    # transforms.RandomVerticalFlip(p=0.3),\n",
        "    transforms.RandomRotation(30),\n",
        "    # transforms.ColorJitter(brightness=0.2, contrast=0.2, saturation=0.2),\n",
        "    transforms.RandomGrayscale(p=0.1),\n",
        "    transforms.RandomAffine(degrees=0, translate=(0.1, 0.1)),\n",
        "    # transforms.GaussianBlur(kernel_size=(3, 3), sigma=(0.1, 0.5)),\n",
        "    # rand_augment_transform(config_str='rand-m9-mstd0.5', hparams={}),\n",
        "    transforms.ToTensor(),\n",
        "    transforms.Normalize([0.485, 0.456, 0.406], [0.229, 0.224, 0.225]),\n",
        "    transforms.RandomErasing(p=0.5, scale=(0.02, 0.2), ratio=(0.3, 3.3)),\n",
        "])\n",
        "\n",
        "transform_test = transforms.Compose([\n",
        "    transforms.Resize((256, 256), interpolation=InterpolationMode.LANCZOS),\n",
        "    transforms.ToTensor(),\n",
        "    transforms.Normalize([0.485, 0.456, 0.406], [0.229, 0.224, 0.225]),\n",
        "])\n"
      ],
      "metadata": {
        "trusted": true,
        "execution": {
          "iopub.status.busy": "2025-07-22T18:04:17.726189Z",
          "iopub.execute_input": "2025-07-22T18:04:17.726448Z",
          "iopub.status.idle": "2025-07-22T18:04:17.735567Z",
          "shell.execute_reply.started": "2025-07-22T18:04:17.726430Z",
          "shell.execute_reply": "2025-07-22T18:04:17.734977Z"
        },
        "id": "bCcDSecV1qWb"
      },
      "outputs": [],
      "execution_count": null
    },
    {
      "cell_type": "code",
      "source": [
        "csv_path = '/kaggle/input/dog-breed-identification/labels.csv'\n",
        "image_dir = '/kaggle/input/dog-breed-identification/train'\n",
        "dataset_full = CustomImageDataset(csv_file=csv_path, image_dir=image_dir, transform=transform_train)\n",
        "df = pd.read_csv(csv_path)\n",
        "\n",
        "train_idx, val_idx = train_test_split(\n",
        "    np.arange(len(dataset_full)),\n",
        "    test_size=0.2,\n",
        "    stratify=df['breed'],\n",
        "    random_state=42\n",
        ")\n",
        "\n",
        "train_dataset = Subset(dataset_full, train_idx)\n",
        "val_dataset = Subset(dataset_full, val_idx)\n",
        "\n",
        "train_loader = DataLoader(train_dataset, batch_size=32, shuffle=True, num_workers=2)\n",
        "val_loader = DataLoader(val_dataset, batch_size=32, shuffle=False, num_workers=2)"
      ],
      "metadata": {
        "trusted": true,
        "execution": {
          "iopub.status.busy": "2025-07-22T18:04:22.023967Z",
          "iopub.execute_input": "2025-07-22T18:04:22.024520Z",
          "iopub.status.idle": "2025-07-22T18:04:22.119477Z",
          "shell.execute_reply.started": "2025-07-22T18:04:22.024495Z",
          "shell.execute_reply": "2025-07-22T18:04:22.118953Z"
        },
        "id": "PQDqxGV51qWd"
      },
      "outputs": [],
      "execution_count": null
    },
    {
      "cell_type": "code",
      "source": [
        "device = torch.device('cuda' if torch.cuda.is_available() else 'cpu')\n",
        "model = timm.create_model('convnext_base', pretrained=True, num_classes=120).to(device)\n",
        "\n",
        "\n",
        "labels = df.iloc[train_idx, 1].map(dataset_full.class_to_idx).values\n",
        "class_weights = compute_class_weight('balanced', classes=np.arange(120), y=labels)\n",
        "class_weights = torch.tensor(class_weights, dtype=torch.float).to(device)\n",
        "\n",
        "print(device)"
      ],
      "metadata": {
        "trusted": true,
        "execution": {
          "iopub.status.busy": "2025-07-22T18:04:23.739962Z",
          "iopub.execute_input": "2025-07-22T18:04:23.740226Z",
          "iopub.status.idle": "2025-07-22T18:04:27.632547Z",
          "shell.execute_reply.started": "2025-07-22T18:04:23.740207Z",
          "shell.execute_reply": "2025-07-22T18:04:27.631751Z"
        },
        "colab": {
          "referenced_widgets": [
            "87ad60921eeb4d56a0f39bb7cfd406b2"
          ]
        },
        "id": "c6ZUMTmx1qWd",
        "outputId": "17cd6b49-5ed2-46f7-89e4-89ae96de1d02"
      },
      "outputs": [
        {
          "output_type": "display_data",
          "data": {
            "text/plain": "model.safetensors:   0%|          | 0.00/354M [00:00<?, ?B/s]",
            "application/vnd.jupyter.widget-view+json": {
              "version_major": 2,
              "version_minor": 0,
              "model_id": "87ad60921eeb4d56a0f39bb7cfd406b2"
            }
          },
          "metadata": {}
        },
        {
          "name": "stdout",
          "text": "cuda\n",
          "output_type": "stream"
        }
      ],
      "execution_count": null
    },
    {
      "cell_type": "code",
      "source": [
        "loss_fn = nn.CrossEntropyLoss(weight=class_weights, label_smoothing=0.1)\n",
        "# optimizer = AdamW(model.parameters(), lr=1e-4, weight_decay=5e-3)\n",
        "optimizer = SGD(model.parameters(), lr=1e-3 , momentum=0.9)\n",
        "# scheduler = OneCycleLR(optimizer, max_lr=1e-4, steps_per_epoch=len(train_loader), epochs=25)\n",
        "\n",
        "scheduler = CosineAnnealingLR(optimizer, T_max=25*len(train_loader), eta_min=1e-6)\n"
      ],
      "metadata": {
        "trusted": true,
        "execution": {
          "iopub.status.busy": "2025-07-22T18:04:42.613260Z",
          "iopub.execute_input": "2025-07-22T18:04:42.613552Z",
          "iopub.status.idle": "2025-07-22T18:04:42.619800Z",
          "shell.execute_reply.started": "2025-07-22T18:04:42.613529Z",
          "shell.execute_reply": "2025-07-22T18:04:42.619169Z"
        },
        "id": "9hUro95T1qWe"
      },
      "outputs": [],
      "execution_count": null
    },
    {
      "cell_type": "code",
      "source": [
        "def train_epoch(model, loader):\n",
        "    model.train()\n",
        "    loss_log, acc_log = [], []\n",
        "    for data, target in tqdm(loader):\n",
        "        data, target = data.to(device), target.to(device)\n",
        "        optimizer.zero_grad()\n",
        "        logits = model(data)\n",
        "        loss = loss_fn(logits, target)\n",
        "        loss.backward()\n",
        "        optimizer.step()\n",
        "        scheduler.step()\n",
        "\n",
        "        acc = (logits.argmax(dim=1) == target).float().mean().item()\n",
        "        loss_log.append(loss.item())\n",
        "        acc_log.append(acc)\n",
        "    return np.mean(loss_log), np.mean(acc_log)\n",
        "\n",
        "\n",
        "def validate(model, loader):\n",
        "    model.eval()\n",
        "    loss_log, acc_log = [], []\n",
        "    with torch.no_grad():\n",
        "        for data, target in tqdm(loader):\n",
        "            data, target = data.to(device), target.to(device)\n",
        "            logits = model(data)\n",
        "            loss = loss_fn(logits, target)\n",
        "            acc = (logits.argmax(dim=1) == target).float().mean().item()\n",
        "            loss_log.append(loss.item())\n",
        "            acc_log.append(acc)\n",
        "    return np.mean(loss_log), np.mean(acc_log)\n",
        "\n",
        "\n",
        "\n",
        "def train(model, train_loader, val_loader, epochs=25, patience=5):\n",
        "    best_val_acc = 0\n",
        "    wait = 0\n",
        "    best_model_state = None\n",
        "    for epoch in range(epochs):\n",
        "        print(f\"\\nEpoch {epoch+1}/{epochs}\")\n",
        "        train_loss, train_acc = train_epoch(model, train_loader)\n",
        "        val_loss, val_acc = validate(model, val_loader)\n",
        "\n",
        "        print(f\"Train Loss: {train_loss:.4f}, Acc: {train_acc:.4f}\")\n",
        "        print(f\"Val   Loss: {val_loss:.4f}, Acc: {val_acc:.4f}\")\n",
        "\n",
        "        if val_acc > best_val_acc:\n",
        "            best_val_acc = val_acc\n",
        "            best_model_state = model.state_dict()\n",
        "            wait = 0\n",
        "        else:\n",
        "            wait += 1\n",
        "            if wait >= patience:\n",
        "                print(\"Early stopping.\")\n",
        "                break\n",
        "\n",
        "    if best_model_state:\n",
        "        model.load_state_dict(best_model_state)\n",
        "\n",
        "    return model\n"
      ],
      "metadata": {
        "trusted": true,
        "execution": {
          "iopub.status.busy": "2025-07-22T18:04:43.376383Z",
          "iopub.execute_input": "2025-07-22T18:04:43.376909Z",
          "iopub.status.idle": "2025-07-22T18:04:43.387001Z",
          "shell.execute_reply.started": "2025-07-22T18:04:43.376882Z",
          "shell.execute_reply": "2025-07-22T18:04:43.386084Z"
        },
        "id": "w_xyx46Y1qWe"
      },
      "outputs": [],
      "execution_count": null
    },
    {
      "cell_type": "code",
      "source": [
        "model = train(model, train_loader, val_loader)\n",
        "torch.save(model.state_dict(), \"best_model.pth\")"
      ],
      "metadata": {
        "trusted": true,
        "execution": {
          "iopub.status.busy": "2025-07-22T18:04:43.889601Z",
          "iopub.execute_input": "2025-07-22T18:04:43.890111Z",
          "iopub.status.idle": "2025-07-22T21:04:04.615003Z",
          "shell.execute_reply.started": "2025-07-22T18:04:43.890084Z",
          "shell.execute_reply": "2025-07-22T21:04:04.614216Z"
        },
        "id": "7OhIiYx-1qWf",
        "outputId": "4d618b2c-05d7-4192-8b2c-ee4132d45dd6"
      },
      "outputs": [
        {
          "name": "stdout",
          "text": "\nEpoch 1/25\n",
          "output_type": "stream"
        },
        {
          "name": "stderr",
          "text": "100%|██████████| 256/256 [08:21<00:00,  1.96s/it]\n100%|██████████| 64/64 [00:36<00:00,  1.74it/s]\n",
          "output_type": "stream"
        },
        {
          "name": "stdout",
          "text": "Train Loss: 2.5973, Acc: 0.5968\nVal   Loss: 1.3742, Acc: 0.8527\n\nEpoch 2/25\n",
          "output_type": "stream"
        },
        {
          "name": "stderr",
          "text": "100%|██████████| 256/256 [08:52<00:00,  2.08s/it]\n100%|██████████| 64/64 [00:36<00:00,  1.75it/s]\n",
          "output_type": "stream"
        },
        {
          "name": "stdout",
          "text": "Train Loss: 1.2998, Acc: 0.8527\nVal   Loss: 1.2631, Acc: 0.8631\n\nEpoch 3/25\n",
          "output_type": "stream"
        },
        {
          "name": "stderr",
          "text": "100%|██████████| 256/256 [08:52<00:00,  2.08s/it]\n100%|██████████| 64/64 [00:36<00:00,  1.75it/s]\n",
          "output_type": "stream"
        },
        {
          "name": "stdout",
          "text": "Train Loss: 1.2166, Acc: 0.8744\nVal   Loss: 1.2694, Acc: 0.8514\n\nEpoch 4/25\n",
          "output_type": "stream"
        },
        {
          "name": "stderr",
          "text": "100%|██████████| 256/256 [08:50<00:00,  2.07s/it]\n100%|██████████| 64/64 [00:36<00:00,  1.75it/s]\n",
          "output_type": "stream"
        },
        {
          "name": "stdout",
          "text": "Train Loss: 1.1810, Acc: 0.8867\nVal   Loss: 1.2236, Acc: 0.8642\n\nEpoch 5/25\n",
          "output_type": "stream"
        },
        {
          "name": "stderr",
          "text": "100%|██████████| 256/256 [08:51<00:00,  2.08s/it]\n100%|██████████| 64/64 [00:36<00:00,  1.75it/s]\n",
          "output_type": "stream"
        },
        {
          "name": "stdout",
          "text": "Train Loss: 1.1545, Acc: 0.8977\nVal   Loss: 1.2125, Acc: 0.8777\n\nEpoch 6/25\n",
          "output_type": "stream"
        },
        {
          "name": "stderr",
          "text": "100%|██████████| 256/256 [08:51<00:00,  2.07s/it]\n100%|██████████| 64/64 [00:36<00:00,  1.75it/s]\n",
          "output_type": "stream"
        },
        {
          "name": "stdout",
          "text": "Train Loss: 1.1204, Acc: 0.9100\nVal   Loss: 1.2032, Acc: 0.8748\n\nEpoch 7/25\n",
          "output_type": "stream"
        },
        {
          "name": "stderr",
          "text": "100%|██████████| 256/256 [08:51<00:00,  2.08s/it]\n100%|██████████| 64/64 [00:36<00:00,  1.75it/s]\n",
          "output_type": "stream"
        },
        {
          "name": "stdout",
          "text": "Train Loss: 1.1004, Acc: 0.9162\nVal   Loss: 1.2036, Acc: 0.8723\n\nEpoch 8/25\n",
          "output_type": "stream"
        },
        {
          "name": "stderr",
          "text": "100%|██████████| 256/256 [08:49<00:00,  2.07s/it]\n100%|██████████| 64/64 [00:36<00:00,  1.75it/s]\n",
          "output_type": "stream"
        },
        {
          "name": "stdout",
          "text": "Train Loss: 1.0805, Acc: 0.9261\nVal   Loss: 1.2022, Acc: 0.8719\n\nEpoch 9/25\n",
          "output_type": "stream"
        },
        {
          "name": "stderr",
          "text": "100%|██████████| 256/256 [08:50<00:00,  2.07s/it]\n100%|██████████| 64/64 [00:36<00:00,  1.75it/s]\n",
          "output_type": "stream"
        },
        {
          "name": "stdout",
          "text": "Train Loss: 1.0685, Acc: 0.9258\nVal   Loss: 1.1802, Acc: 0.8865\n\nEpoch 10/25\n",
          "output_type": "stream"
        },
        {
          "name": "stderr",
          "text": "100%|██████████| 256/256 [08:51<00:00,  2.08s/it]\n100%|██████████| 64/64 [00:36<00:00,  1.75it/s]\n",
          "output_type": "stream"
        },
        {
          "name": "stdout",
          "text": "Train Loss: 1.0462, Acc: 0.9369\nVal   Loss: 1.1814, Acc: 0.8763\n\nEpoch 11/25\n",
          "output_type": "stream"
        },
        {
          "name": "stderr",
          "text": "100%|██████████| 256/256 [08:48<00:00,  2.07s/it]\n100%|██████████| 64/64 [00:36<00:00,  1.75it/s]\n",
          "output_type": "stream"
        },
        {
          "name": "stdout",
          "text": "Train Loss: 1.0396, Acc: 0.9385\nVal   Loss: 1.1810, Acc: 0.8772\n\nEpoch 12/25\n",
          "output_type": "stream"
        },
        {
          "name": "stderr",
          "text": "100%|██████████| 256/256 [08:51<00:00,  2.08s/it]\n100%|██████████| 64/64 [00:36<00:00,  1.75it/s]\n",
          "output_type": "stream"
        },
        {
          "name": "stdout",
          "text": "Train Loss: 1.0351, Acc: 0.9380\nVal   Loss: 1.1713, Acc: 0.8895\n\nEpoch 13/25\n",
          "output_type": "stream"
        },
        {
          "name": "stderr",
          "text": "100%|██████████| 256/256 [08:50<00:00,  2.07s/it]\n100%|██████████| 64/64 [00:36<00:00,  1.75it/s]\n",
          "output_type": "stream"
        },
        {
          "name": "stdout",
          "text": "Train Loss: 1.0172, Acc: 0.9464\nVal   Loss: 1.1593, Acc: 0.8827\n\nEpoch 14/25\n",
          "output_type": "stream"
        },
        {
          "name": "stderr",
          "text": "100%|██████████| 256/256 [08:50<00:00,  2.07s/it]\n100%|██████████| 64/64 [00:36<00:00,  1.75it/s]\n",
          "output_type": "stream"
        },
        {
          "name": "stdout",
          "text": "Train Loss: 1.0097, Acc: 0.9510\nVal   Loss: 1.1470, Acc: 0.8958\n\nEpoch 15/25\n",
          "output_type": "stream"
        },
        {
          "name": "stderr",
          "text": "100%|██████████| 256/256 [08:52<00:00,  2.08s/it]\n100%|██████████| 64/64 [00:36<00:00,  1.75it/s]\n",
          "output_type": "stream"
        },
        {
          "name": "stdout",
          "text": "Train Loss: 1.0030, Acc: 0.9502\nVal   Loss: 1.1681, Acc: 0.8866\n\nEpoch 16/25\n",
          "output_type": "stream"
        },
        {
          "name": "stderr",
          "text": "100%|██████████| 256/256 [08:51<00:00,  2.08s/it]\n100%|██████████| 64/64 [00:36<00:00,  1.75it/s]\n",
          "output_type": "stream"
        },
        {
          "name": "stdout",
          "text": "Train Loss: 0.9962, Acc: 0.9556\nVal   Loss: 1.1617, Acc: 0.8889\n\nEpoch 17/25\n",
          "output_type": "stream"
        },
        {
          "name": "stderr",
          "text": "100%|██████████| 256/256 [08:51<00:00,  2.08s/it]\n100%|██████████| 64/64 [00:36<00:00,  1.75it/s]\n",
          "output_type": "stream"
        },
        {
          "name": "stdout",
          "text": "Train Loss: 0.9920, Acc: 0.9580\nVal   Loss: 1.1618, Acc: 0.8948\n\nEpoch 18/25\n",
          "output_type": "stream"
        },
        {
          "name": "stderr",
          "text": "100%|██████████| 256/256 [08:52<00:00,  2.08s/it]\n100%|██████████| 64/64 [00:36<00:00,  1.75it/s]\n",
          "output_type": "stream"
        },
        {
          "name": "stdout",
          "text": "Train Loss: 0.9901, Acc: 0.9600\nVal   Loss: 1.1843, Acc: 0.8791\n\nEpoch 19/25\n",
          "output_type": "stream"
        },
        {
          "name": "stderr",
          "text": "100%|██████████| 256/256 [08:52<00:00,  2.08s/it]\n100%|██████████| 64/64 [00:36<00:00,  1.75it/s]\n",
          "output_type": "stream"
        },
        {
          "name": "stdout",
          "text": "Train Loss: 0.9843, Acc: 0.9607\nVal   Loss: 1.1614, Acc: 0.8886\nEarly stopping.\n",
          "output_type": "stream"
        }
      ],
      "execution_count": null
    },
    {
      "cell_type": "code",
      "source": [
        "val_loss, val_acc = validate(model, val_loader)\n",
        "val_loss, val_acc"
      ],
      "metadata": {
        "trusted": true,
        "execution": {
          "iopub.status.busy": "2025-07-22T21:10:30.696855Z",
          "iopub.execute_input": "2025-07-22T21:10:30.697151Z",
          "iopub.status.idle": "2025-07-22T21:11:01.224039Z",
          "shell.execute_reply.started": "2025-07-22T21:10:30.697133Z",
          "shell.execute_reply": "2025-07-22T21:11:01.223329Z"
        },
        "id": "ArnqENuv1qWf",
        "outputId": "99127354-67e7-4576-f0f2-af87bf1470ae"
      },
      "outputs": [
        {
          "name": "stderr",
          "text": "100%|██████████| 64/64 [00:30<00:00,  2.10it/s]\n",
          "output_type": "stream"
        },
        {
          "execution_count": 10,
          "output_type": "execute_result",
          "data": {
            "text/plain": "(1.1720886696130037, 0.8893958777189255)"
          },
          "metadata": {}
        }
      ],
      "execution_count": null
    },
    {
      "cell_type": "code",
      "source": [
        "import glob\n",
        "\n",
        "class CustomTestDataset(Dataset):\n",
        "    def __init__(self, image_dir, transform=None):\n",
        "        self.image_paths = sorted(glob.glob(os.path.join(image_dir, \"*\")))\n",
        "        self.transform = transform\n",
        "\n",
        "    def __len__(self):\n",
        "        return len(self.image_paths)\n",
        "\n",
        "    def __getitem__(self, idx):\n",
        "        img_path = self.image_paths[idx]\n",
        "        image = Image.open(img_path).convert(\"RGB\")\n",
        "\n",
        "        if self.transform:\n",
        "            image = self.transform(image)\n",
        "\n",
        "        return image, os.path.basename(img_path)\n",
        "\n",
        "\n",
        "test_dataset = CustomTestDataset(image_dir='/kaggle/input/dog-breed-identification/test', transform=transform_test)\n",
        "test_loader = DataLoader(test_dataset, batch_size=64, shuffle=False)\n",
        "\n",
        "\n"
      ],
      "metadata": {
        "trusted": true,
        "execution": {
          "iopub.status.busy": "2025-07-22T21:11:05.711834Z",
          "iopub.execute_input": "2025-07-22T21:11:05.712740Z",
          "iopub.status.idle": "2025-07-22T21:11:06.091431Z",
          "shell.execute_reply.started": "2025-07-22T21:11:05.712703Z",
          "shell.execute_reply": "2025-07-22T21:11:06.090860Z"
        },
        "id": "lIUZDY2N1qWf"
      },
      "outputs": [],
      "execution_count": null
    },
    {
      "cell_type": "code",
      "source": [
        "model.state_dict()\n",
        "model.eval()\n",
        "all_predictions = []\n",
        "all_filenames = []\n",
        "\n",
        "with torch.no_grad():\n",
        "    for images, filenames in tqdm(test_loader):\n",
        "        images = images.to(device)\n",
        "\n",
        "        outputs = model(images)\n",
        "        probs = F.softmax(outputs, dim=1).cpu().numpy()\n",
        "        all_predictions.extend(probs)\n",
        "        all_filenames.extend([os.path.splitext(f)[0] for f in filenames])\n"
      ],
      "metadata": {
        "trusted": true,
        "execution": {
          "iopub.status.busy": "2025-07-22T21:11:09.743607Z",
          "iopub.execute_input": "2025-07-22T21:11:09.743876Z",
          "iopub.status.idle": "2025-07-22T21:16:45.441280Z",
          "shell.execute_reply.started": "2025-07-22T21:11:09.743858Z",
          "shell.execute_reply": "2025-07-22T21:16:45.440261Z"
        },
        "id": "sHGMu8AU1qWg",
        "outputId": "86dc3f9a-8b89-458f-d61c-47cd957aa352"
      },
      "outputs": [
        {
          "name": "stderr",
          "text": "100%|██████████| 162/162 [05:35<00:00,  2.07s/it]\n",
          "output_type": "stream"
        },
        {
          "traceback": [
            "\u001b[0;31m---------------------------------------------------------------------------\u001b[0m",
            "\u001b[0;31mNameError\u001b[0m                                 Traceback (most recent call last)",
            "\u001b[0;32m/tmp/ipykernel_36/4135792143.py\u001b[0m in \u001b[0;36m<cell line: 0>\u001b[0;34m()\u001b[0m\n\u001b[1;32m     15\u001b[0m \u001b[0;34m\u001b[0m\u001b[0m\n\u001b[1;32m     16\u001b[0m \u001b[0;31m# Получаем список классов в том же порядке, как в train\u001b[0m\u001b[0;34m\u001b[0m\u001b[0;34m\u001b[0m\u001b[0m\n\u001b[0;32m---> 17\u001b[0;31m \u001b[0mclass_names\u001b[0m \u001b[0;34m=\u001b[0m \u001b[0mtrain_dataset_full\u001b[0m\u001b[0;34m.\u001b[0m\u001b[0mclasses\u001b[0m  \u001b[0;31m# отсортированный список классов\u001b[0m\u001b[0;34m\u001b[0m\u001b[0;34m\u001b[0m\u001b[0m\n\u001b[0m\u001b[1;32m     18\u001b[0m \u001b[0;34m\u001b[0m\u001b[0m\n\u001b[1;32m     19\u001b[0m \u001b[0;31m# Создаём DataFrame\u001b[0m\u001b[0;34m\u001b[0m\u001b[0;34m\u001b[0m\u001b[0m\n",
            "\u001b[0;31mNameError\u001b[0m: name 'train_dataset_full' is not defined"
          ],
          "ename": "NameError",
          "evalue": "name 'train_dataset_full' is not defined",
          "output_type": "error"
        }
      ],
      "execution_count": null
    },
    {
      "cell_type": "code",
      "source": [
        "\n",
        "class_names = dataset_full.classes\n",
        "\n",
        "submission_df = pd.DataFrame(all_predictions, columns=class_names)\n",
        "submission_df.insert(0, \"id\", all_filenames)"
      ],
      "metadata": {
        "trusted": true,
        "execution": {
          "iopub.status.busy": "2025-07-22T21:17:39.630770Z",
          "iopub.execute_input": "2025-07-22T21:17:39.631306Z",
          "iopub.status.idle": "2025-07-22T21:17:40.033077Z",
          "shell.execute_reply.started": "2025-07-22T21:17:39.631279Z",
          "shell.execute_reply": "2025-07-22T21:17:40.032514Z"
        },
        "id": "_yd7hww41qWg"
      },
      "outputs": [],
      "execution_count": null
    },
    {
      "cell_type": "code",
      "source": [
        "submission_df.to_csv(\"submission1.csv\", index=False)\n",
        "\n",
        "class_names = dataset_full.classes\n"
      ],
      "metadata": {
        "trusted": true,
        "execution": {
          "iopub.status.busy": "2025-07-22T21:17:51.416549Z",
          "iopub.execute_input": "2025-07-22T21:17:51.417024Z",
          "iopub.status.idle": "2025-07-22T21:17:54.703233Z",
          "shell.execute_reply.started": "2025-07-22T21:17:51.416999Z",
          "shell.execute_reply": "2025-07-22T21:17:54.702639Z"
        },
        "id": "a95kmLfz1qWg"
      },
      "outputs": [],
      "execution_count": null
    },
    {
      "cell_type": "code",
      "source": [],
      "metadata": {
        "trusted": true,
        "id": "mJ6NqxwF1qWg"
      },
      "outputs": [],
      "execution_count": null
    }
  ]
}